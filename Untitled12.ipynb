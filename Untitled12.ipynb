{
  "nbformat": 4,
  "nbformat_minor": 0,
  "metadata": {
    "colab": {
      "provenance": [],
      "authorship_tag": "ABX9TyN+mebzUgUAM42k/bLEQVm7",
      "include_colab_link": true
    },
    "kernelspec": {
      "name": "python3",
      "display_name": "Python 3"
    },
    "language_info": {
      "name": "python"
    }
  },
  "cells": [
    {
      "cell_type": "markdown",
      "metadata": {
        "id": "view-in-github",
        "colab_type": "text"
      },
      "source": [
        "<a href=\"https://colab.research.google.com/github/Twinkle-gawri/Mini-Project-16/blob/main/Untitled12.ipynb\" target=\"_parent\"><img src=\"https://colab.research.google.com/assets/colab-badge.svg\" alt=\"Open In Colab\"/></a>"
      ]
    },
    {
      "cell_type": "code",
      "execution_count": 6,
      "metadata": {
        "colab": {
          "base_uri": "https://localhost:8080/"
        },
        "id": "iWf2pVXjpdHb",
        "outputId": "c4670fa1-11ba-4653-8fee-d04eeeda1f18"
      },
      "outputs": [
        {
          "output_type": "stream",
          "name": "stdout",
          "text": [
            "Initial size: (183, 275)\n",
            "Final size: (92, 138)\n"
          ]
        },
        {
          "output_type": "execute_result",
          "data": {
            "text/plain": [
              "True"
            ]
          },
          "metadata": {},
          "execution_count": 6
        }
      ],
      "source": [
        "import cv2\n",
        "\n",
        "# Load the image\n",
        "image = cv2.imread('/content/picture.png')\n",
        "print('Initial size:', image.shape[:2])\n",
        "\n",
        "resized_image = cv2.resize(image, (0, 0), fx=0.5, fy=0.5)\n",
        "\n",
        "# Print the final size\n",
        "print('Final size:', resized_image.shape[:2])\n",
        "\n",
        "# Save the resized image\n",
        "cv2.imwrite('/content/picture.png', resized_image)\n"
      ]
    }
  ]
}